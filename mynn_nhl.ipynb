{
 "cells": [
  {
   "cell_type": "markdown",
   "metadata": {},
   "source": [
    "### Import"
   ]
  },
  {
   "cell_type": "code",
   "execution_count": 21,
   "metadata": {},
   "outputs": [
    {
     "name": "stdout",
     "output_type": "stream",
     "text": [
      "The autoreload extension is already loaded. To reload it, use:\n",
      "  %reload_ext autoreload\n"
     ]
    }
   ],
   "source": [
    "import numpy as np\n",
    "import matplotlib.pyplot as plt\n",
    "from sklearn.datasets import make_moons, make_circles, make_classification\n",
    "\n",
    "%load_ext autoreload\n",
    "%autoreload "
   ]
  },
  {
   "cell_type": "markdown",
   "metadata": {},
   "source": [
    "### Dataset"
   ]
  },
  {
   "cell_type": "code",
   "execution_count": 22,
   "metadata": {},
   "outputs": [
    {
     "name": "stdout",
     "output_type": "stream",
     "text": [
      "X.shape = (2, 400)\n",
      "Y.shape = (1, 400)\n"
     ]
    }
   ],
   "source": [
    "X = np.random.randint(2, size = (2, 400)) # creo una matrice con due numeri (0,1), su 2 colonne e 5 linee\n",
    "Y = np.logical_xor(X[0],X[1]) # creo delle coppie tra le due linee della matrice X (restituisci True se \"or\" is True)\n",
    "Y = Y.reshape(1,X.shape[1])*1 # forziamo la macchina a capire che per l'output voglio una linea e 5 colonne. Moltiplico per 1 per trsaformare True et False en 0 et 1\n",
    "\n",
    "#print(X)\n",
    "print(f\"X.shape = {X.shape}\")\n",
    "# print(Y)\n",
    "print(f\"Y.shape = {Y.shape}\")"
   ]
  },
  {
   "cell_type": "code",
   "execution_count": 23,
   "metadata": {},
   "outputs": [],
   "source": [
    "def init_params_deep(layer_dims):\n",
    "    \n",
    "    '''\n",
    "    Initialisation des parametres avec L layers\n",
    "    '''\n",
    "    \n",
    "    np.random.seed(0)\n",
    "    params = {}\n",
    "    L = len(layer_dims)\n",
    "    \n",
    "    for l in range(1,L):\n",
    "        params['w'+str(l)] = np.random.randn(layer_dims[l], layer_dims[l-1])/ np.sqrt(layer_dims[l-1])\n",
    "        params['b'+str(l)] = np.zeros((layer_dims[l],1))\n",
    "        \n",
    "    return params"
   ]
  },
  {
   "cell_type": "code",
   "execution_count": 24,
   "metadata": {},
   "outputs": [
    {
     "data": {
      "text/plain": [
       "{'w1': array([[ 1.24737338,  0.28295388],\n",
       "        [ 0.69207227,  1.58455078],\n",
       "        [ 1.32056292, -0.69103982]]), 'b1': array([[0.],\n",
       "        [0.],\n",
       "        [0.]]), 'w2': array([[ 0.5485338 , -0.08738612, -0.05959343],\n",
       "        [ 0.23705916,  0.08316359,  0.8396252 ],\n",
       "        [ 0.43938534,  0.0702491 ,  0.25626456]]), 'b2': array([[0.],\n",
       "        [0.],\n",
       "        [0.]]), 'w3': array([[ 0.19264696,  0.86260696, -0.11844818]]), 'b3': array([[0.]])}"
      ]
     },
     "execution_count": 24,
     "metadata": {},
     "output_type": "execute_result"
    }
   ],
   "source": [
    "init_params_deep([2,3,3,1])"
   ]
  },
  {
   "cell_type": "code",
   "execution_count": null,
   "metadata": {},
   "outputs": [],
   "source": []
  }
 ],
 "metadata": {
  "kernelspec": {
   "display_name": "Python 3",
   "language": "python",
   "name": "python3"
  },
  "language_info": {
   "codemirror_mode": {
    "name": "ipython",
    "version": 3
   },
   "file_extension": ".py",
   "mimetype": "text/x-python",
   "name": "python",
   "nbconvert_exporter": "python",
   "pygments_lexer": "ipython3",
   "version": "3.7.1"
  }
 },
 "nbformat": 4,
 "nbformat_minor": 2
}
