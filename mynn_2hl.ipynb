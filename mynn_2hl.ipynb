{
 "cells": [
  {
   "cell_type": "code",
   "execution_count": 71,
   "metadata": {},
   "outputs": [
    {
     "name": "stdout",
     "output_type": "stream",
     "text": [
      "The autoreload extension is already loaded. To reload it, use:\n",
      "  %reload_ext autoreload\n"
     ]
    }
   ],
   "source": [
    "import numpy as np\n",
    "import matplotlib.pyplot as plt\n",
    "from sklearn.datasets import make_moons, make_circles, make_classification\n",
    "\n",
    "%load_ext autoreload\n",
    "%autoreload "
   ]
  },
  {
   "cell_type": "markdown",
   "metadata": {},
   "source": [
    "### Dataset"
   ]
  },
  {
   "cell_type": "code",
   "execution_count": 72,
   "metadata": {},
   "outputs": [
    {
     "name": "stdout",
     "output_type": "stream",
     "text": [
      "X.shape = (2, 400)\n",
      "Y.shape = (1, 400)\n"
     ]
    }
   ],
   "source": [
    "X = np.random.randint(2, size = (2, 400)) # creo una matrice con due numeri (0,1), su 2 colonne e 5 linee\n",
    "Y = np.logical_xor(X[0],X[1]) # creo delle coppie tra le due linee della matrice X (restituisci True se \"or\" is True)\n",
    "Y = Y.reshape(1,X.shape[1])*1 # forziamo la macchina a capire che per l'output voglio una linea e 5 colonne. Moltiplico per 1 per trsaformare True et False en 0 et 1\n",
    "\n",
    "#print(X)\n",
    "print(f\"X.shape = {X.shape}\")\n",
    "# print(Y)\n",
    "print(f\"Y.shape = {Y.shape}\")"
   ]
  },
  {
   "cell_type": "markdown",
   "metadata": {},
   "source": [
    "### Structure du reseaux"
   ]
  },
  {
   "cell_type": "code",
   "execution_count": 73,
   "metadata": {},
   "outputs": [
    {
     "name": "stdout",
     "output_type": "stream",
     "text": [
      "Input layer = 2 units (n_x)\n",
      "Hidden layer 1 = 3 units (n_h1)\n",
      "Hidden layer 2 = 3 units (n_h2)\n",
      "Output layer = 1 output (n_y)\n",
      "\n",
      "NN structure = {'n_x': 2, 'n_h1': 3, 'n_h2': 3, 'n_y': 1}\n"
     ]
    }
   ],
   "source": [
    "n_x = int(X.shape[0]) # n° of inputs units\n",
    "print(f'Input layer = {n_x} units (n_x)')\n",
    "n_h1 = 3 # n° of neurones dans l'hidden layer 1\n",
    "print(f'Hidden layer 1 = {n_h1} units (n_h1)')\n",
    "n_h2 = 3 # n° of neurones dans l'hidden layer 2\n",
    "print(f'Hidden layer 2 = {n_h2} units (n_h2)')\n",
    "n_y = int(Y.shape[0]) # n° of output units\n",
    "print(f'Output layer = {n_y} output (n_y)')\n",
    "nn_structure = {'n_x':n_x,'n_h1':n_h1,'n_h2':n_h2,'n_y':n_y}\n",
    "print()\n",
    "print(f'NN structure = {nn_structure}')"
   ]
  },
  {
   "cell_type": "markdown",
   "metadata": {},
   "source": [
    "### Initialisation des parametres"
   ]
  },
  {
   "cell_type": "code",
   "execution_count": 74,
   "metadata": {},
   "outputs": [],
   "source": [
    "def init_params(n_x,n_h1,n_h2,n_y):\n",
    "    \n",
    "    '''\n",
    "    Function qui inizialize mes parametres\n",
    "    \n",
    "    Weight initialisés random, Bias initialisés à zero\n",
    "    \n",
    "    '''\n",
    "    \n",
    "    np.random.seed(0)\n",
    "    \n",
    "    w1 = np.random.randn(n_h1,n_x)*0.01\n",
    "    w2 = np.random.randn(n_h2,n_h1)*0.01\n",
    "    w3 = np.random.randn(n_y,n_h2)*0.01\n",
    "    b1 = np.zeros((n_h1,1))*0.01\n",
    "    b2 = np.zeros((n_h2,1))*0.01\n",
    "    b3 = np.zeros((n_y,1))*0.01\n",
    "    \n",
    "    params = {'w1':w1, 'w2':w2, 'w3':w3, 'b1':b1, 'b2':b2, 'b3':b3}\n",
    "    \n",
    "    print(f'w1.shape = {w1.shape}')\n",
    "    print(f'w2.shape = {w2.shape}')\n",
    "    print(f'w3.shape = {w3.shape}')\n",
    "    print(f'b1.shape = {b1.shape}')\n",
    "    print(f'b2.shape = {b2.shape}')\n",
    "    print(f'b3.shape = {b3.shape}')\n",
    "    \n",
    "    return params"
   ]
  },
  {
   "cell_type": "code",
   "execution_count": 75,
   "metadata": {},
   "outputs": [
    {
     "name": "stdout",
     "output_type": "stream",
     "text": [
      "w1.shape = (3, 2)\n",
      "w2.shape = (3, 3)\n",
      "w3.shape = (1, 3)\n",
      "b1.shape = (3, 1)\n",
      "b2.shape = (3, 1)\n",
      "b3.shape = (1, 1)\n"
     ]
    }
   ],
   "source": [
    "params = init_params(n_x,n_h1,n_h2,n_y)"
   ]
  },
  {
   "cell_type": "markdown",
   "metadata": {},
   "source": [
    "### Forward Propagation"
   ]
  },
  {
   "cell_type": "code",
   "execution_count": 85,
   "metadata": {},
   "outputs": [],
   "source": [
    "def sigmoid(z):\n",
    "    \n",
    "    '''\n",
    "    Fonction d'activation sigmoid\n",
    "    \n",
    "    '''\n",
    "    \n",
    "    s = 1 / (1 + np.exp(-z))\n",
    "    \n",
    "    return s"
   ]
  },
  {
   "cell_type": "code",
   "execution_count": 90,
   "metadata": {},
   "outputs": [],
   "source": [
    "def forward(X, params):\n",
    "\n",
    "    '''\n",
    "    Fonction de forward propagation\n",
    "    \n",
    "    On recupere les parametres initialisés pour calculer la fonction de pre-activation Z\n",
    "\n",
    "    '''\n",
    "    w1 = params['w1'] \n",
    "    w2 = params['w2']\n",
    "    w3 = params['w3']\n",
    "    b1 = params['b1']\n",
    "    b2 = params['b2']\n",
    "    b3 = params['b3']\n",
    "    \n",
    "    z1 = np.dot(w1,X)+b1\n",
    "    a1 = sigmoid(z1)\n",
    "    z2 = np.dot(w2,a1)+b2\n",
    "    a2 = sigmoid(z2)\n",
    "    z3 = np.dot(w3,a2)+b3\n",
    "    a3 = sigmoid(z3)\n",
    "    \n",
    "    cache = {'z1':z1, 'z2':z2, 'z3':z3, 'a1':a1, 'a2':a2, 'a3':a3}\n",
    "    \n",
    "    print(f'a1.shape = {a1.shape}')\n",
    "    print(f'a2.shape = {a2.shape}')\n",
    "    print(f'a3.shape = {a3.shape}')\n",
    "    \n",
    "    return cache, a3"
   ]
  },
  {
   "cell_type": "code",
   "execution_count": 91,
   "metadata": {},
   "outputs": [
    {
     "name": "stdout",
     "output_type": "stream",
     "text": [
      "a1.shape = (3, 400)\n",
      "a2.shape = (3, 400)\n",
      "a3.shape = (1, 400)\n"
     ]
    }
   ],
   "source": [
    "cache, a3 = forward(X, params)"
   ]
  },
  {
   "cell_type": "code",
   "execution_count": 92,
   "metadata": {},
   "outputs": [],
   "source": [
    "def cost_funct(A,Y):\n",
    "    \n",
    "    '''\n",
    "    Cost function\n",
    "    \n",
    "    '''\n",
    "    \n",
    "    m = Y.shape[1]\n",
    "    \n",
    "    logprob = (Y * np.log(A) + (1-Y) * np.log(1-A))\n",
    "    #ensuite la cost\n",
    "    cost = -(np.sum(logprob))/m\n",
    "    #je veux que l'on me retourne un nombre et non pas un array\n",
    "    cost = np.squeeze(cost)\n",
    "    #être sur que j'ai la cost au bon format\n",
    "    assert(isinstance(cost,float))\n",
    "\n",
    "    return cost"
   ]
  },
  {
   "cell_type": "code",
   "execution_count": 95,
   "metadata": {},
   "outputs": [
    {
     "data": {
      "text/plain": [
       "0.6931147316363632"
      ]
     },
     "execution_count": 95,
     "metadata": {},
     "output_type": "execute_result"
    }
   ],
   "source": [
    "cost = cost_funct(a3,Y)\n",
    "cost"
   ]
  },
  {
   "cell_type": "code",
   "execution_count": null,
   "metadata": {},
   "outputs": [],
   "source": []
  }
 ],
 "metadata": {
  "kernelspec": {
   "display_name": "Python 3",
   "language": "python",
   "name": "python3"
  },
  "language_info": {
   "codemirror_mode": {
    "name": "ipython",
    "version": 3
   },
   "file_extension": ".py",
   "mimetype": "text/x-python",
   "name": "python",
   "nbconvert_exporter": "python",
   "pygments_lexer": "ipython3",
   "version": "3.7.1"
  }
 },
 "nbformat": 4,
 "nbformat_minor": 2
}
