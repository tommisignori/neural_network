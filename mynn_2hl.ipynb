{
 "cells": [
  {
   "cell_type": "code",
   "execution_count": 7,
   "metadata": {},
   "outputs": [],
   "source": [
    "import numpy as np\n",
    "import matplotlib.pyplot as plt\n",
    "from sklearn.datasets import make_moons, make_circles, make_classification\n",
    "\n",
    "%load_ext autoreload\n",
    "%autoreload "
   ]
  },
  {
   "cell_type": "markdown",
   "metadata": {},
   "source": [
    "### Dataset"
   ]
  },
  {
   "cell_type": "code",
   "execution_count": 8,
   "metadata": {},
   "outputs": [
    {
     "name": "stdout",
     "output_type": "stream",
     "text": [
      "X.shape = (2, 400)\n",
      "Y.shape = (1, 400)\n"
     ]
    }
   ],
   "source": [
    "X = np.random.randint(2, size = (2, 400)) # creo una matrice con due numeri (0,1), su 2 colonne e 5 linee\n",
    "Y = np.logical_xor(X[0],X[1]) # creo delle coppie tra le due linee della matrice X (restituisci True se \"or\" is True)\n",
    "Y = Y.reshape(1,X.shape[1])*1 # forziamo la macchina a capire che per l'output voglio una linea e 5 colonne. Moltiplico per 1 per trsaformare True et False en 0 et 1\n",
    "\n",
    "#print(X)\n",
    "print(f\"X.shape = {X.shape}\")\n",
    "# print(Y)\n",
    "print(f\"Y.shape = {Y.shape}\")"
   ]
  },
  {
   "cell_type": "markdown",
   "metadata": {},
   "source": [
    "### Structure du reseaux"
   ]
  },
  {
   "cell_type": "code",
   "execution_count": 9,
   "metadata": {},
   "outputs": [
    {
     "name": "stdout",
     "output_type": "stream",
     "text": [
      "Input layer = 2 units (n_x)\n",
      "Hidden layer 1 = 3 units (n_h1)\n",
      "Hidden layer 2 = 3 units (n_h2)\n",
      "Output layer = 1 output (n_y)\n",
      "\n",
      "NN structure = {'n_x': 2, 'n_h1': 3, 'n_h2': 3, 'n_y': 1}\n"
     ]
    }
   ],
   "source": [
    "n_x = int(X.shape[0]) # n° of inputs units\n",
    "print(f'Input layer = {n_x} units (n_x)')\n",
    "n_h1 = 3 # n° of neurones dans l'hidden layer 1\n",
    "print(f'Hidden layer 1 = {n_h1} units (n_h1)')\n",
    "n_h2 = 3 # n° of neurones dans l'hidden layer 2\n",
    "print(f'Hidden layer 2 = {n_h2} units (n_h2)')\n",
    "n_y = int(Y.shape[0]) # n° of output units\n",
    "print(f'Output layer = {n_y} output (n_y)')\n",
    "nn_structure = {'n_x':n_x,'n_h1':n_h1,'n_h2':n_h2,'n_y':n_y}\n",
    "print()\n",
    "print(f'NN structure = {nn_structure}')"
   ]
  },
  {
   "cell_type": "markdown",
   "metadata": {},
   "source": [
    "### Initialisation des parametres"
   ]
  },
  {
   "cell_type": "code",
   "execution_count": 10,
   "metadata": {},
   "outputs": [],
   "source": [
    "def init_params(n_x,n_h1,n_h2,n_y):\n",
    "    \n",
    "    '''\n",
    "    Function qui inizialize mes parametres\n",
    "    \n",
    "    Weight initialisés random, Bias initialisés à zero\n",
    "    \n",
    "    '''\n",
    "    \n",
    "    np.random.seed(0)\n",
    "    \n",
    "    w1 = np.random.randn(n_h1,n_x)*0.01\n",
    "    w2 = np.random.randn(n_h2,n_h1)*0.01\n",
    "    w3 = np.random.randn(n_y,n_h2)*0.01\n",
    "    b1 = np.zeros((n_h1,1))*0.01\n",
    "    b2 = np.zeros((n_h2,1))*0.01\n",
    "    b3 = np.zeros((n_y,1))*0.01\n",
    "    \n",
    "    params = {'w1':w1, 'w2':w2, 'w3':w3, 'b1':b1, 'b2':b2, 'b3':b3}\n",
    "    \n",
    "    print(f'w1.shape = {w1.shape}')\n",
    "    print(f'w2.shape = {w2.shape}')\n",
    "    print(f'w3.shape = {w3.shape}')\n",
    "    print(f'b1.shape = {b1.shape}')\n",
    "    print(f'b2.shape = {b2.shape}')\n",
    "    print(f'b3.shape = {b3.shape}')\n",
    "    \n",
    "    return params"
   ]
  },
  {
   "cell_type": "code",
   "execution_count": 11,
   "metadata": {},
   "outputs": [
    {
     "name": "stdout",
     "output_type": "stream",
     "text": [
      "w1.shape = (3, 2)\n",
      "w2.shape = (3, 3)\n",
      "w3.shape = (1, 3)\n",
      "b1.shape = (3, 1)\n",
      "b2.shape = (3, 1)\n",
      "b3.shape = (1, 1)\n"
     ]
    }
   ],
   "source": [
    "params = init_params(n_x,n_h1,n_h2,n_y)"
   ]
  },
  {
   "cell_type": "markdown",
   "metadata": {},
   "source": [
    "### Forward Propagation"
   ]
  },
  {
   "cell_type": "code",
   "execution_count": 12,
   "metadata": {},
   "outputs": [],
   "source": [
    "def sigmoid(z):\n",
    "    \n",
    "    '''\n",
    "    Fonction d'activation sigmoid\n",
    "    \n",
    "    '''\n",
    "    \n",
    "    s = 1 / (1 + np.exp(-z))\n",
    "    \n",
    "    return s"
   ]
  },
  {
   "cell_type": "code",
   "execution_count": 13,
   "metadata": {},
   "outputs": [],
   "source": [
    "def forward(X, params):\n",
    "\n",
    "    '''\n",
    "    Fonction de forward propagation\n",
    "    \n",
    "    On recupere les parametres initialisés pour calculer la fonction de pre-activation Z\n",
    "\n",
    "    '''\n",
    "    w1 = params['w1'] \n",
    "    w2 = params['w2']\n",
    "    w3 = params['w3']\n",
    "    b1 = params['b1']\n",
    "    b2 = params['b2']\n",
    "    b3 = params['b3']\n",
    "    \n",
    "    z1 = np.dot(w1,X)+b1\n",
    "    a1 = sigmoid(z1)\n",
    "    z2 = np.dot(w2,a1)+b2\n",
    "    a2 = sigmoid(z2)\n",
    "    z3 = np.dot(w3,a2)+b3\n",
    "    a3 = sigmoid(z3)\n",
    "    \n",
    "    cache = {'z1':z1, 'z2':z2, 'z3':z3, 'a1':a1, 'a2':a2, 'a3':a3}\n",
    "    \n",
    "    print(f'a1.shape = {a1.shape}')\n",
    "    print(f'a2.shape = {a2.shape}')\n",
    "    print(f'a3.shape = {a3.shape}')\n",
    "    \n",
    "    return cache, a3"
   ]
  },
  {
   "cell_type": "code",
   "execution_count": 14,
   "metadata": {},
   "outputs": [
    {
     "name": "stdout",
     "output_type": "stream",
     "text": [
      "a1.shape = (3, 400)\n",
      "a2.shape = (3, 400)\n",
      "a3.shape = (1, 400)\n"
     ]
    }
   ],
   "source": [
    "cache, a3 = forward(X, params)"
   ]
  },
  {
   "cell_type": "code",
   "execution_count": 15,
   "metadata": {},
   "outputs": [],
   "source": [
    "def cost_funct(A,Y):\n",
    "    \n",
    "    '''\n",
    "    Cost function\n",
    "    \n",
    "    '''\n",
    "    \n",
    "    m = Y.shape[1]\n",
    "    \n",
    "    logprob = (Y * np.log(A) + (1-Y) * np.log(1-A))\n",
    "    #ensuite la cost\n",
    "    cost = -(np.sum(logprob))/m\n",
    "    #je veux que l'on me retourne un nombre et non pas un array\n",
    "    cost = np.squeeze(cost)\n",
    "    #être sur que j'ai la cost au bon format\n",
    "    assert(isinstance(cost,float))\n",
    "\n",
    "    return cost"
   ]
  },
  {
   "cell_type": "code",
   "execution_count": 16,
   "metadata": {},
   "outputs": [
    {
     "data": {
      "text/plain": [
       "0.6935222402338742"
      ]
     },
     "execution_count": 16,
     "metadata": {},
     "output_type": "execute_result"
    }
   ],
   "source": [
    "cost = cost_funct(a3,Y)\n",
    "cost"
   ]
  },
  {
   "cell_type": "markdown",
   "metadata": {},
   "source": [
    "### Backward Propagation"
   ]
  },
  {
   "cell_type": "code",
   "execution_count": 17,
   "metadata": {},
   "outputs": [],
   "source": [
    "def backward(X, Y, cache, params, l_r):\n",
    "    \n",
    "    a3 = cache['a3']\n",
    "    a2 = cache['a2']\n",
    "    a1 = cache['a1']\n",
    "    w3 = params['w3']\n",
    "    w2 = params['w2']\n",
    "    w1 = params['w1']\n",
    "    b1 = params['b1']\n",
    "    b2 = params['b2']\n",
    "    b3 = params['b3']\n",
    "    \n",
    "    m = Y.shape[1]\n",
    "    \n",
    "    dz3 = a3 - Y\n",
    "    dw3 = 1/m * np.dot(dz3, a2.T)\n",
    "    db3 = 1/m * np.sum(dz3, axis=1, keepdims=True)\n",
    "    \n",
    "    dz2 = (np.dot(w3.T, dz3)) * (1 - (a2**2))\n",
    "    dw2 = 1/m * np.dot(dz2, a1.T)\n",
    "    db2 = 1/m * np.sum(dz2, axis=1, keepdims=True)\n",
    "    \n",
    "    dz1 = (np.dot(w2.T, dz2)) * (1 - (a1**2)) \n",
    "    dw1 = 1/m * np.dot(dz1, X.T)\n",
    "    db1 = 1/m * np.sum(dz1, axis=1, keepdims=True)\n",
    "    \n",
    "    w1 = params['w1'] - l_r * dw1\n",
    "    b1 = params['b1'] - l_r * db1\n",
    "    w2 = params['w2'] - l_r * dw2\n",
    "    b2 = params['b2'] - l_r * db2\n",
    "    w3 = params['w3'] - l_r * dw3\n",
    "    b3 = params['b3'] - l_r * db3\n",
    "    \n",
    "    params['w1'] = w1\n",
    "    params['b1'] = b1\n",
    "    params['w2'] = w2\n",
    "    params['b2'] = b2\n",
    "    params['w3'] = w3\n",
    "    params['b3'] = b3\n",
    "    \n",
    "    return params"
   ]
  },
  {
   "cell_type": "code",
   "execution_count": 20,
   "metadata": {},
   "outputs": [
    {
     "data": {
      "text/plain": [
       "{'w1': array([[ 0.01764692,  0.00401026],\n",
       "        [ 0.00978732,  0.02240884],\n",
       "        [ 0.01867581, -0.00977247]]),\n",
       " 'w2': array([[ 0.00980086, -0.00121176, -0.00073411],\n",
       "        [ 0.00399531,  0.00132908,  0.01443276],\n",
       "        [ 0.00810193,  0.00171132,  0.00492707]]),\n",
       " 'w3': array([[-0.04378321, -0.03233393, -0.04924615]]),\n",
       " 'b1': array([[ 9.01102488e-06],\n",
       "        [-9.01355561e-08],\n",
       "        [ 3.22982644e-07]]),\n",
       " 'b2': array([[ 0.00059503],\n",
       "        [-0.00021954],\n",
       "        [ 0.00097504]]),\n",
       " 'b3': array([[-0.09407504]])}"
      ]
     },
     "execution_count": 20,
     "metadata": {},
     "output_type": "execute_result"
    }
   ],
   "source": [
    "backward(X, Y, cache, params, 1) # test backward function with learning rate = 1"
   ]
  },
  {
   "cell_type": "code",
   "execution_count": 22,
   "metadata": {},
   "outputs": [],
   "source": [
    "def accuracy(Predictions, Labels):\n",
    "\n",
    "    \"\"\"\n",
    "    Predictions shape (1, m)\n",
    "    Labels shape (1, m)\n",
    "    \"\"\"\n",
    "    \n",
    "    n_correct = np.sum(Predictions == Labels)\n",
    "    n_total   = Predictions.shape[1]\n",
    "    \n",
    "    accuracy = n_correct / n_total\n",
    "    \n",
    "    return accuracy"
   ]
  },
  {
   "cell_type": "code",
   "execution_count": 23,
   "metadata": {},
   "outputs": [
    {
     "data": {
      "text/plain": [
       "1.0"
      ]
     },
     "execution_count": 23,
     "metadata": {},
     "output_type": "execute_result"
    }
   ],
   "source": [
    "accuracy(Y, Y) # test accuracy function with labels & labels (doit retourner 1)"
   ]
  },
  {
   "cell_type": "code",
   "execution_count": null,
   "metadata": {},
   "outputs": [],
   "source": []
  }
 ],
 "metadata": {
  "kernelspec": {
   "display_name": "Python 3",
   "language": "python",
   "name": "python3"
  },
  "language_info": {
   "codemirror_mode": {
    "name": "ipython",
    "version": 3
   },
   "file_extension": ".py",
   "mimetype": "text/x-python",
   "name": "python",
   "nbconvert_exporter": "python",
   "pygments_lexer": "ipython3",
   "version": "3.7.1"
  }
 },
 "nbformat": 4,
 "nbformat_minor": 2
}
