{
 "cells": [
  {
   "cell_type": "markdown",
   "metadata": {},
   "source": [
    "**IMPORTS**"
   ]
  },
  {
   "cell_type": "code",
   "execution_count": 2,
   "metadata": {},
   "outputs": [],
   "source": [
    "import numpy as np\n",
    "import matplotlib.pyplot as plt\n",
    "from sklearn.datasets import make_moons, make_circles, make_classification\n",
    "\n",
    "%load_ext autoreload\n",
    "%autoreload "
   ]
  },
  {
   "cell_type": "markdown",
   "metadata": {},
   "source": [
    "**DATASET**"
   ]
  },
  {
   "cell_type": "code",
   "execution_count": 4,
   "metadata": {},
   "outputs": [
    {
     "name": "stdout",
     "output_type": "stream",
     "text": [
      "X.shape = (2, 400)\n",
      "Y.shape = (1, 400)\n"
     ]
    }
   ],
   "source": [
    "X = np.random.randint(2, size = (2, 400)) # creo una matrice con due numeri (0,1), su 2 colonne e 5 linee\n",
    "Y = np.logical_xor(X[0],X[1]) # creo delle coppie tra le due linee della matrice X (restituisci True se \"or\" is True)\n",
    "Y = Y.reshape(1,X.shape[1])*1 # forziamo la macchina a capire che per l'output voglio una linea e 5 colonne. Moltiplico per 1 per trsaformare True et False en 0 et 1\n",
    "\n",
    "#print(X)\n",
    "print(f\"X.shape = {X.shape}\")\n",
    "# print(Y)\n",
    "print(f\"Y.shape = {Y.shape}\")"
   ]
  },
  {
   "cell_type": "markdown",
   "metadata": {},
   "source": [
    "**STRUCTURE DU RESEAUX**"
   ]
  },
  {
   "cell_type": "code",
   "execution_count": 5,
   "metadata": {
    "scrolled": true
   },
   "outputs": [
    {
     "name": "stdout",
     "output_type": "stream",
     "text": [
      "Input layer = 2 units (n_x)\n",
      "Hidden layer = 3 units (n_h)\n",
      "Output layer = 1 output (n_y)\n",
      "\n",
      "NN structure = {'n_x': 2, 'n_h': 3, 'n_y': 1}\n"
     ]
    }
   ],
   "source": [
    "n_x = int(X.shape[0])   # n° of inputs units\n",
    "print(f'Input layer = {n_x} units (n_x)')\n",
    "        \n",
    "n_h = 3 # n° of neurones dans l'hidden layer\n",
    "print(f'Hidden layer = {n_h} units (n_h)')\n",
    "\n",
    "#int(input('How many units in the hidden layer ? '))\n",
    "\n",
    "n_y = int(Y.shape[0])   # n° of output units\n",
    "print(f'Output layer = {n_y} output (n_y)')\n",
    "\n",
    "nn_structure = {'n_x':n_x,'n_h':n_h,'n_y':n_y}\n",
    "print()\n",
    "print(f'NN structure = {nn_structure}')"
   ]
  },
  {
   "cell_type": "markdown",
   "metadata": {},
   "source": [
    "**INITIALISATION PARAMETRES**"
   ]
  },
  {
   "cell_type": "code",
   "execution_count": 12,
   "metadata": {},
   "outputs": [],
   "source": [
    "def init_param(n_x,n_h,n_y):\n",
    "    \n",
    "    '''\n",
    "    Function qui inizialize mes parametres\n",
    "    \n",
    "    Weight initialisés random, Bias initialisés à zero\n",
    "    \n",
    "    '''\n",
    "    np.random.seed(0)\n",
    "    \n",
    "    w1 = np.random.randn(n_h,n_x) / np.sqrt(n_x)\n",
    "    b1 = np.zeros((n_h,1))\n",
    "    w2 = np.random.randn(n_y,n_h) / np.sqrt(n_h)\n",
    "    b2 = np.zeros((n_y,1))\n",
    "    \n",
    "    parametres = {'w1': w1, \n",
    "                  'b1':b1, \n",
    "                  'w2':w2, \n",
    "                  'b2':b2}\n",
    "    \n",
    "    print(f\"w1 : {w1.shape}\")\n",
    "    print(f\"b1 : {b1.shape}\")\n",
    "    print(f\"w2 : {w2.shape}\")\n",
    "    print(f\"b2 : {b2.shape}\")\n",
    "\n",
    "    \n",
    "    return parametres"
   ]
  },
  {
   "cell_type": "code",
   "execution_count": 7,
   "metadata": {},
   "outputs": [
    {
     "name": "stdout",
     "output_type": "stream",
     "text": [
      "w1 : (3, 2)\n",
      "b1 : (3, 1)\n",
      "w2 : (1, 3)\n",
      "b2 : (1, 1)\n"
     ]
    }
   ],
   "source": [
    "parametres = init_param(n_x,n_h,n_y)"
   ]
  },
  {
   "cell_type": "code",
   "execution_count": 8,
   "metadata": {},
   "outputs": [
    {
     "data": {
      "text/plain": [
       "{'w1': array([[ 1.24737338,  0.28295388],\n",
       "        [ 0.69207227,  1.58455078],\n",
       "        [ 1.32056292, -0.69103982]]), 'b1': array([[0.],\n",
       "        [0.],\n",
       "        [0.]]), 'w2': array([[ 0.5485338 , -0.08738612, -0.05959343]]), 'b2': array([[0.]])}"
      ]
     },
     "execution_count": 8,
     "metadata": {},
     "output_type": "execute_result"
    }
   ],
   "source": [
    "parametres"
   ]
  },
  {
   "cell_type": "markdown",
   "metadata": {},
   "source": [
    "**FORWARD PROPAGATION**"
   ]
  },
  {
   "cell_type": "code",
   "execution_count": 13,
   "metadata": {},
   "outputs": [],
   "source": [
    "def sigmoid(z):\n",
    "    \n",
    "    s = 1/(1+np.exp(-z))\n",
    "    \n",
    "    return s"
   ]
  },
  {
   "cell_type": "code",
   "execution_count": 14,
   "metadata": {},
   "outputs": [],
   "source": [
    "def forward(X,parametres):\n",
    "    \n",
    "    w1 = parametres['w1']\n",
    "    b1 = parametres['b1']\n",
    "    w2 = parametres['w2']\n",
    "    b2 = parametres['b2']\n",
    "    \n",
    "    z1 = np.dot(w1,X) + b1\n",
    "    a1 = sigmoid(z1)\n",
    "    z2 = np.dot(w2,a1) + b2\n",
    "    a2 = sigmoid(z2)\n",
    "    \n",
    "    cache = {'z1': z1,\n",
    "             'a1': a1,\n",
    "             'z2': z2,\n",
    "             'a2': a2}\n",
    "    \n",
    "    #print(f\"a1 : {a1.shape}\")\n",
    "    #print(f\"a2 : {a2.shape}\")\n",
    "    \n",
    "    return cache, a2"
   ]
  },
  {
   "cell_type": "code",
   "execution_count": 11,
   "metadata": {},
   "outputs": [
    {
     "data": {
      "text/plain": [
       "({'z1': array([[ 1.24737338,  0.28295388,  1.24737338, ...,  1.53032725,\n",
       "           0.28295388,  0.28295388],\n",
       "         [ 0.69207227,  1.58455078,  0.69207227, ...,  2.27662304,\n",
       "           1.58455078,  1.58455078],\n",
       "         [ 1.32056292, -0.69103982,  1.32056292, ...,  0.6295231 ,\n",
       "          -0.69103982, -0.69103982]]),\n",
       "  'a1': array([[0.77684485, 0.57027026, 0.77684485, ..., 0.82205419, 0.57027026,\n",
       "          0.57027026],\n",
       "         [0.66642775, 0.82984805, 0.66642775, ..., 0.90692238, 0.82984805,\n",
       "          0.82984805],\n",
       "         [0.78927535, 0.3338018 , 0.78927535, ..., 0.65238132, 0.3338018 ,\n",
       "          0.3338018 ]]),\n",
       "  'z2': array([[0.32085349, 0.22040291, 0.32085349, 0.33279444, 0.22040291,\n",
       "          0.32085349, 0.22040291, 0.33279444, 0.33279444, 0.32085349,\n",
       "          0.22040291, 0.22040291, 0.22040291, 0.32085349, 0.32085349,\n",
       "          0.20077712, 0.22040291, 0.32085349, 0.32085349, 0.22040291,\n",
       "          0.33279444, 0.33279444, 0.32085349, 0.32085349, 0.22040291,\n",
       "          0.20077712, 0.33279444, 0.22040291, 0.32085349, 0.20077712,\n",
       "          0.33279444, 0.20077712, 0.20077712, 0.32085349, 0.22040291,\n",
       "          0.32085349, 0.32085349, 0.32085349, 0.20077712, 0.22040291,\n",
       "          0.20077712, 0.22040291, 0.20077712, 0.22040291, 0.32085349,\n",
       "          0.22040291, 0.33279444, 0.20077712, 0.20077712, 0.32085349,\n",
       "          0.33279444, 0.33279444, 0.20077712, 0.20077712, 0.20077712,\n",
       "          0.20077712, 0.32085349, 0.33279444, 0.32085349, 0.33279444,\n",
       "          0.22040291, 0.32085349, 0.22040291, 0.33279444, 0.20077712,\n",
       "          0.20077712, 0.33279444, 0.22040291, 0.33279444, 0.32085349,\n",
       "          0.33279444, 0.22040291, 0.33279444, 0.20077712, 0.22040291,\n",
       "          0.22040291, 0.20077712, 0.32085349, 0.20077712, 0.20077712,\n",
       "          0.22040291, 0.33279444, 0.33279444, 0.32085349, 0.32085349,\n",
       "          0.22040291, 0.32085349, 0.20077712, 0.32085349, 0.32085349,\n",
       "          0.33279444, 0.32085349, 0.20077712, 0.33279444, 0.20077712,\n",
       "          0.32085349, 0.33279444, 0.32085349, 0.33279444, 0.32085349,\n",
       "          0.33279444, 0.32085349, 0.22040291, 0.32085349, 0.33279444,\n",
       "          0.33279444, 0.32085349, 0.33279444, 0.33279444, 0.22040291,\n",
       "          0.33279444, 0.22040291, 0.22040291, 0.20077712, 0.20077712,\n",
       "          0.33279444, 0.20077712, 0.33279444, 0.22040291, 0.32085349,\n",
       "          0.33279444, 0.32085349, 0.22040291, 0.33279444, 0.22040291,\n",
       "          0.33279444, 0.33279444, 0.20077712, 0.20077712, 0.33279444,\n",
       "          0.33279444, 0.33279444, 0.22040291, 0.32085349, 0.32085349,\n",
       "          0.32085349, 0.20077712, 0.33279444, 0.20077712, 0.33279444,\n",
       "          0.33279444, 0.22040291, 0.33279444, 0.22040291, 0.20077712,\n",
       "          0.32085349, 0.32085349, 0.33279444, 0.22040291, 0.32085349,\n",
       "          0.20077712, 0.32085349, 0.32085349, 0.32085349, 0.33279444,\n",
       "          0.20077712, 0.20077712, 0.33279444, 0.20077712, 0.20077712,\n",
       "          0.20077712, 0.33279444, 0.32085349, 0.32085349, 0.20077712,\n",
       "          0.20077712, 0.32085349, 0.20077712, 0.33279444, 0.22040291,\n",
       "          0.22040291, 0.32085349, 0.32085349, 0.32085349, 0.20077712,\n",
       "          0.22040291, 0.22040291, 0.20077712, 0.22040291, 0.22040291,\n",
       "          0.33279444, 0.22040291, 0.32085349, 0.32085349, 0.33279444,\n",
       "          0.20077712, 0.20077712, 0.33279444, 0.33279444, 0.33279444,\n",
       "          0.20077712, 0.33279444, 0.32085349, 0.22040291, 0.33279444,\n",
       "          0.32085349, 0.22040291, 0.20077712, 0.32085349, 0.33279444,\n",
       "          0.32085349, 0.22040291, 0.22040291, 0.32085349, 0.22040291,\n",
       "          0.22040291, 0.22040291, 0.20077712, 0.33279444, 0.33279444,\n",
       "          0.22040291, 0.33279444, 0.22040291, 0.33279444, 0.20077712,\n",
       "          0.33279444, 0.20077712, 0.33279444, 0.22040291, 0.20077712,\n",
       "          0.22040291, 0.32085349, 0.33279444, 0.33279444, 0.32085349,\n",
       "          0.32085349, 0.20077712, 0.20077712, 0.22040291, 0.20077712,\n",
       "          0.33279444, 0.33279444, 0.22040291, 0.22040291, 0.32085349,\n",
       "          0.20077712, 0.22040291, 0.32085349, 0.33279444, 0.20077712,\n",
       "          0.22040291, 0.33279444, 0.33279444, 0.32085349, 0.32085349,\n",
       "          0.20077712, 0.20077712, 0.33279444, 0.32085349, 0.33279444,\n",
       "          0.33279444, 0.33279444, 0.32085349, 0.20077712, 0.32085349,\n",
       "          0.20077712, 0.22040291, 0.22040291, 0.20077712, 0.33279444,\n",
       "          0.32085349, 0.22040291, 0.32085349, 0.32085349, 0.20077712,\n",
       "          0.22040291, 0.33279444, 0.22040291, 0.32085349, 0.32085349,\n",
       "          0.22040291, 0.20077712, 0.32085349, 0.20077712, 0.32085349,\n",
       "          0.32085349, 0.33279444, 0.33279444, 0.33279444, 0.32085349,\n",
       "          0.22040291, 0.20077712, 0.22040291, 0.32085349, 0.20077712,\n",
       "          0.33279444, 0.33279444, 0.20077712, 0.32085349, 0.32085349,\n",
       "          0.20077712, 0.22040291, 0.22040291, 0.22040291, 0.20077712,\n",
       "          0.32085349, 0.32085349, 0.22040291, 0.32085349, 0.20077712,\n",
       "          0.32085349, 0.20077712, 0.33279444, 0.33279444, 0.20077712,\n",
       "          0.20077712, 0.22040291, 0.22040291, 0.20077712, 0.32085349,\n",
       "          0.32085349, 0.33279444, 0.20077712, 0.22040291, 0.22040291,\n",
       "          0.32085349, 0.22040291, 0.20077712, 0.22040291, 0.22040291,\n",
       "          0.32085349, 0.22040291, 0.33279444, 0.20077712, 0.33279444,\n",
       "          0.22040291, 0.20077712, 0.22040291, 0.33279444, 0.33279444,\n",
       "          0.20077712, 0.20077712, 0.22040291, 0.22040291, 0.22040291,\n",
       "          0.22040291, 0.33279444, 0.32085349, 0.33279444, 0.22040291,\n",
       "          0.20077712, 0.32085349, 0.20077712, 0.20077712, 0.33279444,\n",
       "          0.33279444, 0.20077712, 0.32085349, 0.33279444, 0.33279444,\n",
       "          0.20077712, 0.20077712, 0.22040291, 0.32085349, 0.32085349,\n",
       "          0.33279444, 0.20077712, 0.22040291, 0.22040291, 0.22040291,\n",
       "          0.20077712, 0.20077712, 0.33279444, 0.32085349, 0.33279444,\n",
       "          0.20077712, 0.33279444, 0.32085349, 0.33279444, 0.33279444,\n",
       "          0.20077712, 0.20077712, 0.20077712, 0.33279444, 0.20077712,\n",
       "          0.22040291, 0.20077712, 0.32085349, 0.20077712, 0.33279444,\n",
       "          0.32085349, 0.20077712, 0.33279444, 0.22040291, 0.33279444,\n",
       "          0.20077712, 0.32085349, 0.22040291, 0.20077712, 0.33279444,\n",
       "          0.32085349, 0.32085349, 0.32085349, 0.33279444, 0.22040291,\n",
       "          0.22040291, 0.22040291, 0.33279444, 0.22040291, 0.22040291]]),\n",
       "  'a2': array([[0.57953224, 0.55487875, 0.57953224, 0.58243915, 0.55487875,\n",
       "          0.57953224, 0.55487875, 0.58243915, 0.58243915, 0.57953224,\n",
       "          0.55487875, 0.55487875, 0.55487875, 0.57953224, 0.57953224,\n",
       "          0.55002634, 0.55487875, 0.57953224, 0.57953224, 0.55487875,\n",
       "          0.58243915, 0.58243915, 0.57953224, 0.57953224, 0.55487875,\n",
       "          0.55002634, 0.58243915, 0.55487875, 0.57953224, 0.55002634,\n",
       "          0.58243915, 0.55002634, 0.55002634, 0.57953224, 0.55487875,\n",
       "          0.57953224, 0.57953224, 0.57953224, 0.55002634, 0.55487875,\n",
       "          0.55002634, 0.55487875, 0.55002634, 0.55487875, 0.57953224,\n",
       "          0.55487875, 0.58243915, 0.55002634, 0.55002634, 0.57953224,\n",
       "          0.58243915, 0.58243915, 0.55002634, 0.55002634, 0.55002634,\n",
       "          0.55002634, 0.57953224, 0.58243915, 0.57953224, 0.58243915,\n",
       "          0.55487875, 0.57953224, 0.55487875, 0.58243915, 0.55002634,\n",
       "          0.55002634, 0.58243915, 0.55487875, 0.58243915, 0.57953224,\n",
       "          0.58243915, 0.55487875, 0.58243915, 0.55002634, 0.55487875,\n",
       "          0.55487875, 0.55002634, 0.57953224, 0.55002634, 0.55002634,\n",
       "          0.55487875, 0.58243915, 0.58243915, 0.57953224, 0.57953224,\n",
       "          0.55487875, 0.57953224, 0.55002634, 0.57953224, 0.57953224,\n",
       "          0.58243915, 0.57953224, 0.55002634, 0.58243915, 0.55002634,\n",
       "          0.57953224, 0.58243915, 0.57953224, 0.58243915, 0.57953224,\n",
       "          0.58243915, 0.57953224, 0.55487875, 0.57953224, 0.58243915,\n",
       "          0.58243915, 0.57953224, 0.58243915, 0.58243915, 0.55487875,\n",
       "          0.58243915, 0.55487875, 0.55487875, 0.55002634, 0.55002634,\n",
       "          0.58243915, 0.55002634, 0.58243915, 0.55487875, 0.57953224,\n",
       "          0.58243915, 0.57953224, 0.55487875, 0.58243915, 0.55487875,\n",
       "          0.58243915, 0.58243915, 0.55002634, 0.55002634, 0.58243915,\n",
       "          0.58243915, 0.58243915, 0.55487875, 0.57953224, 0.57953224,\n",
       "          0.57953224, 0.55002634, 0.58243915, 0.55002634, 0.58243915,\n",
       "          0.58243915, 0.55487875, 0.58243915, 0.55487875, 0.55002634,\n",
       "          0.57953224, 0.57953224, 0.58243915, 0.55487875, 0.57953224,\n",
       "          0.55002634, 0.57953224, 0.57953224, 0.57953224, 0.58243915,\n",
       "          0.55002634, 0.55002634, 0.58243915, 0.55002634, 0.55002634,\n",
       "          0.55002634, 0.58243915, 0.57953224, 0.57953224, 0.55002634,\n",
       "          0.55002634, 0.57953224, 0.55002634, 0.58243915, 0.55487875,\n",
       "          0.55487875, 0.57953224, 0.57953224, 0.57953224, 0.55002634,\n",
       "          0.55487875, 0.55487875, 0.55002634, 0.55487875, 0.55487875,\n",
       "          0.58243915, 0.55487875, 0.57953224, 0.57953224, 0.58243915,\n",
       "          0.55002634, 0.55002634, 0.58243915, 0.58243915, 0.58243915,\n",
       "          0.55002634, 0.58243915, 0.57953224, 0.55487875, 0.58243915,\n",
       "          0.57953224, 0.55487875, 0.55002634, 0.57953224, 0.58243915,\n",
       "          0.57953224, 0.55487875, 0.55487875, 0.57953224, 0.55487875,\n",
       "          0.55487875, 0.55487875, 0.55002634, 0.58243915, 0.58243915,\n",
       "          0.55487875, 0.58243915, 0.55487875, 0.58243915, 0.55002634,\n",
       "          0.58243915, 0.55002634, 0.58243915, 0.55487875, 0.55002634,\n",
       "          0.55487875, 0.57953224, 0.58243915, 0.58243915, 0.57953224,\n",
       "          0.57953224, 0.55002634, 0.55002634, 0.55487875, 0.55002634,\n",
       "          0.58243915, 0.58243915, 0.55487875, 0.55487875, 0.57953224,\n",
       "          0.55002634, 0.55487875, 0.57953224, 0.58243915, 0.55002634,\n",
       "          0.55487875, 0.58243915, 0.58243915, 0.57953224, 0.57953224,\n",
       "          0.55002634, 0.55002634, 0.58243915, 0.57953224, 0.58243915,\n",
       "          0.58243915, 0.58243915, 0.57953224, 0.55002634, 0.57953224,\n",
       "          0.55002634, 0.55487875, 0.55487875, 0.55002634, 0.58243915,\n",
       "          0.57953224, 0.55487875, 0.57953224, 0.57953224, 0.55002634,\n",
       "          0.55487875, 0.58243915, 0.55487875, 0.57953224, 0.57953224,\n",
       "          0.55487875, 0.55002634, 0.57953224, 0.55002634, 0.57953224,\n",
       "          0.57953224, 0.58243915, 0.58243915, 0.58243915, 0.57953224,\n",
       "          0.55487875, 0.55002634, 0.55487875, 0.57953224, 0.55002634,\n",
       "          0.58243915, 0.58243915, 0.55002634, 0.57953224, 0.57953224,\n",
       "          0.55002634, 0.55487875, 0.55487875, 0.55487875, 0.55002634,\n",
       "          0.57953224, 0.57953224, 0.55487875, 0.57953224, 0.55002634,\n",
       "          0.57953224, 0.55002634, 0.58243915, 0.58243915, 0.55002634,\n",
       "          0.55002634, 0.55487875, 0.55487875, 0.55002634, 0.57953224,\n",
       "          0.57953224, 0.58243915, 0.55002634, 0.55487875, 0.55487875,\n",
       "          0.57953224, 0.55487875, 0.55002634, 0.55487875, 0.55487875,\n",
       "          0.57953224, 0.55487875, 0.58243915, 0.55002634, 0.58243915,\n",
       "          0.55487875, 0.55002634, 0.55487875, 0.58243915, 0.58243915,\n",
       "          0.55002634, 0.55002634, 0.55487875, 0.55487875, 0.55487875,\n",
       "          0.55487875, 0.58243915, 0.57953224, 0.58243915, 0.55487875,\n",
       "          0.55002634, 0.57953224, 0.55002634, 0.55002634, 0.58243915,\n",
       "          0.58243915, 0.55002634, 0.57953224, 0.58243915, 0.58243915,\n",
       "          0.55002634, 0.55002634, 0.55487875, 0.57953224, 0.57953224,\n",
       "          0.58243915, 0.55002634, 0.55487875, 0.55487875, 0.55487875,\n",
       "          0.55002634, 0.55002634, 0.58243915, 0.57953224, 0.58243915,\n",
       "          0.55002634, 0.58243915, 0.57953224, 0.58243915, 0.58243915,\n",
       "          0.55002634, 0.55002634, 0.55002634, 0.58243915, 0.55002634,\n",
       "          0.55487875, 0.55002634, 0.57953224, 0.55002634, 0.58243915,\n",
       "          0.57953224, 0.55002634, 0.58243915, 0.55487875, 0.58243915,\n",
       "          0.55002634, 0.57953224, 0.55487875, 0.55002634, 0.58243915,\n",
       "          0.57953224, 0.57953224, 0.57953224, 0.58243915, 0.55487875,\n",
       "          0.55487875, 0.55487875, 0.58243915, 0.55487875, 0.55487875]])},\n",
       " array([[0.57953224, 0.55487875, 0.57953224, 0.58243915, 0.55487875,\n",
       "         0.57953224, 0.55487875, 0.58243915, 0.58243915, 0.57953224,\n",
       "         0.55487875, 0.55487875, 0.55487875, 0.57953224, 0.57953224,\n",
       "         0.55002634, 0.55487875, 0.57953224, 0.57953224, 0.55487875,\n",
       "         0.58243915, 0.58243915, 0.57953224, 0.57953224, 0.55487875,\n",
       "         0.55002634, 0.58243915, 0.55487875, 0.57953224, 0.55002634,\n",
       "         0.58243915, 0.55002634, 0.55002634, 0.57953224, 0.55487875,\n",
       "         0.57953224, 0.57953224, 0.57953224, 0.55002634, 0.55487875,\n",
       "         0.55002634, 0.55487875, 0.55002634, 0.55487875, 0.57953224,\n",
       "         0.55487875, 0.58243915, 0.55002634, 0.55002634, 0.57953224,\n",
       "         0.58243915, 0.58243915, 0.55002634, 0.55002634, 0.55002634,\n",
       "         0.55002634, 0.57953224, 0.58243915, 0.57953224, 0.58243915,\n",
       "         0.55487875, 0.57953224, 0.55487875, 0.58243915, 0.55002634,\n",
       "         0.55002634, 0.58243915, 0.55487875, 0.58243915, 0.57953224,\n",
       "         0.58243915, 0.55487875, 0.58243915, 0.55002634, 0.55487875,\n",
       "         0.55487875, 0.55002634, 0.57953224, 0.55002634, 0.55002634,\n",
       "         0.55487875, 0.58243915, 0.58243915, 0.57953224, 0.57953224,\n",
       "         0.55487875, 0.57953224, 0.55002634, 0.57953224, 0.57953224,\n",
       "         0.58243915, 0.57953224, 0.55002634, 0.58243915, 0.55002634,\n",
       "         0.57953224, 0.58243915, 0.57953224, 0.58243915, 0.57953224,\n",
       "         0.58243915, 0.57953224, 0.55487875, 0.57953224, 0.58243915,\n",
       "         0.58243915, 0.57953224, 0.58243915, 0.58243915, 0.55487875,\n",
       "         0.58243915, 0.55487875, 0.55487875, 0.55002634, 0.55002634,\n",
       "         0.58243915, 0.55002634, 0.58243915, 0.55487875, 0.57953224,\n",
       "         0.58243915, 0.57953224, 0.55487875, 0.58243915, 0.55487875,\n",
       "         0.58243915, 0.58243915, 0.55002634, 0.55002634, 0.58243915,\n",
       "         0.58243915, 0.58243915, 0.55487875, 0.57953224, 0.57953224,\n",
       "         0.57953224, 0.55002634, 0.58243915, 0.55002634, 0.58243915,\n",
       "         0.58243915, 0.55487875, 0.58243915, 0.55487875, 0.55002634,\n",
       "         0.57953224, 0.57953224, 0.58243915, 0.55487875, 0.57953224,\n",
       "         0.55002634, 0.57953224, 0.57953224, 0.57953224, 0.58243915,\n",
       "         0.55002634, 0.55002634, 0.58243915, 0.55002634, 0.55002634,\n",
       "         0.55002634, 0.58243915, 0.57953224, 0.57953224, 0.55002634,\n",
       "         0.55002634, 0.57953224, 0.55002634, 0.58243915, 0.55487875,\n",
       "         0.55487875, 0.57953224, 0.57953224, 0.57953224, 0.55002634,\n",
       "         0.55487875, 0.55487875, 0.55002634, 0.55487875, 0.55487875,\n",
       "         0.58243915, 0.55487875, 0.57953224, 0.57953224, 0.58243915,\n",
       "         0.55002634, 0.55002634, 0.58243915, 0.58243915, 0.58243915,\n",
       "         0.55002634, 0.58243915, 0.57953224, 0.55487875, 0.58243915,\n",
       "         0.57953224, 0.55487875, 0.55002634, 0.57953224, 0.58243915,\n",
       "         0.57953224, 0.55487875, 0.55487875, 0.57953224, 0.55487875,\n",
       "         0.55487875, 0.55487875, 0.55002634, 0.58243915, 0.58243915,\n",
       "         0.55487875, 0.58243915, 0.55487875, 0.58243915, 0.55002634,\n",
       "         0.58243915, 0.55002634, 0.58243915, 0.55487875, 0.55002634,\n",
       "         0.55487875, 0.57953224, 0.58243915, 0.58243915, 0.57953224,\n",
       "         0.57953224, 0.55002634, 0.55002634, 0.55487875, 0.55002634,\n",
       "         0.58243915, 0.58243915, 0.55487875, 0.55487875, 0.57953224,\n",
       "         0.55002634, 0.55487875, 0.57953224, 0.58243915, 0.55002634,\n",
       "         0.55487875, 0.58243915, 0.58243915, 0.57953224, 0.57953224,\n",
       "         0.55002634, 0.55002634, 0.58243915, 0.57953224, 0.58243915,\n",
       "         0.58243915, 0.58243915, 0.57953224, 0.55002634, 0.57953224,\n",
       "         0.55002634, 0.55487875, 0.55487875, 0.55002634, 0.58243915,\n",
       "         0.57953224, 0.55487875, 0.57953224, 0.57953224, 0.55002634,\n",
       "         0.55487875, 0.58243915, 0.55487875, 0.57953224, 0.57953224,\n",
       "         0.55487875, 0.55002634, 0.57953224, 0.55002634, 0.57953224,\n",
       "         0.57953224, 0.58243915, 0.58243915, 0.58243915, 0.57953224,\n",
       "         0.55487875, 0.55002634, 0.55487875, 0.57953224, 0.55002634,\n",
       "         0.58243915, 0.58243915, 0.55002634, 0.57953224, 0.57953224,\n",
       "         0.55002634, 0.55487875, 0.55487875, 0.55487875, 0.55002634,\n",
       "         0.57953224, 0.57953224, 0.55487875, 0.57953224, 0.55002634,\n",
       "         0.57953224, 0.55002634, 0.58243915, 0.58243915, 0.55002634,\n",
       "         0.55002634, 0.55487875, 0.55487875, 0.55002634, 0.57953224,\n",
       "         0.57953224, 0.58243915, 0.55002634, 0.55487875, 0.55487875,\n",
       "         0.57953224, 0.55487875, 0.55002634, 0.55487875, 0.55487875,\n",
       "         0.57953224, 0.55487875, 0.58243915, 0.55002634, 0.58243915,\n",
       "         0.55487875, 0.55002634, 0.55487875, 0.58243915, 0.58243915,\n",
       "         0.55002634, 0.55002634, 0.55487875, 0.55487875, 0.55487875,\n",
       "         0.55487875, 0.58243915, 0.57953224, 0.58243915, 0.55487875,\n",
       "         0.55002634, 0.57953224, 0.55002634, 0.55002634, 0.58243915,\n",
       "         0.58243915, 0.55002634, 0.57953224, 0.58243915, 0.58243915,\n",
       "         0.55002634, 0.55002634, 0.55487875, 0.57953224, 0.57953224,\n",
       "         0.58243915, 0.55002634, 0.55487875, 0.55487875, 0.55487875,\n",
       "         0.55002634, 0.55002634, 0.58243915, 0.57953224, 0.58243915,\n",
       "         0.55002634, 0.58243915, 0.57953224, 0.58243915, 0.58243915,\n",
       "         0.55002634, 0.55002634, 0.55002634, 0.58243915, 0.55002634,\n",
       "         0.55487875, 0.55002634, 0.57953224, 0.55002634, 0.58243915,\n",
       "         0.57953224, 0.55002634, 0.58243915, 0.55487875, 0.58243915,\n",
       "         0.55002634, 0.57953224, 0.55487875, 0.55002634, 0.58243915,\n",
       "         0.57953224, 0.57953224, 0.57953224, 0.58243915, 0.55487875,\n",
       "         0.55487875, 0.55487875, 0.58243915, 0.55487875, 0.55487875]]))"
      ]
     },
     "execution_count": 11,
     "metadata": {},
     "output_type": "execute_result"
    }
   ],
   "source": [
    "forward(X,parametres)"
   ]
  },
  {
   "cell_type": "code",
   "execution_count": 12,
   "metadata": {},
   "outputs": [],
   "source": [
    "cache, a2 = forward(X,parametres)"
   ]
  },
  {
   "cell_type": "code",
   "execution_count": 15,
   "metadata": {},
   "outputs": [],
   "source": [
    "def cost_funct(AL, Y):\n",
    "    m = Y.shape[1]\n",
    "    logprob = (Y * np.log(AL) + (1-Y) * np.log(1-AL))\n",
    "    #ensuite la cost\n",
    "    cost = -(np.sum(logprob))/m\n",
    "    #je veux que l'on me retourne un nombre et non pas un array\n",
    "    cost = np.squeeze(cost)\n",
    "    #être sur que j'ai la cost au bon format\n",
    "    assert(isinstance(cost,float))\n",
    "\n",
    "    return cost"
   ]
  },
  {
   "cell_type": "markdown",
   "metadata": {},
   "source": [
    "def cost_funct(A, Y):\n",
    "    m = Y.shape[1]\n",
    "    J = - np.sum(np.multiply(np.log(A),Y) + (1 - Y) * np.log(1 - A)) * (1/m)\n",
    "    J = np.squeeze(J)\n",
    "    assert(J.shape == ())\n",
    "\n",
    "    return J"
   ]
  },
  {
   "cell_type": "code",
   "execution_count": 14,
   "metadata": {},
   "outputs": [
    {
     "data": {
      "text/plain": [
       "0.7040052266280814"
      ]
     },
     "execution_count": 14,
     "metadata": {},
     "output_type": "execute_result"
    }
   ],
   "source": [
    "cost_funct(a2,Y)"
   ]
  },
  {
   "cell_type": "markdown",
   "metadata": {},
   "source": [
    "**BACKWARD PROPAGATION**"
   ]
  },
  {
   "cell_type": "code",
   "execution_count": 16,
   "metadata": {},
   "outputs": [],
   "source": [
    "def backward(X, Y, cache, parametres, l_r):\n",
    "    \n",
    "    a2 = cache['a2']\n",
    "    a1 = cache['a1']\n",
    "    w2 = parametres['w2']\n",
    "    w1 = parametres['w1']\n",
    "    b1 = parametres['b1']\n",
    "    b2 = parametres['b2']\n",
    "    \n",
    "    m = X.shape[1]\n",
    "    \n",
    "    dz2 = a2 - Y\n",
    "    #print(f'dZ2.shape = {dZ2.shape}')\n",
    "    dw2 = 1/m * np.dot(dz2, a1.T)\n",
    "    #print(f'dw2.shape = {dw2.shape}')\n",
    "    db2 = 1/m * np.sum(dz2, axis=1, keepdims=True)\n",
    "    #print(f'db2.shape = {db2.shape}'\n",
    "    \n",
    "    dz1 = (np.dot(w2.T, dz2)) * (1 - (a1**2)) \n",
    "    #print(f'dz1.shape = {dz1.shape}')\n",
    "    dw1 = 1/m * np.dot(dz1, X.T)\n",
    "    #print(f'dw1.shape = {dw1.shape}')\n",
    "    #print(dw1.dtype)\n",
    "    db1 = 1/m * np.sum(dz1, axis=1, keepdims=True)\n",
    "    #print(f'db1.shape = {db1.shape}')\n",
    "    \n",
    "    w1 = parametres['w1'] - l_r * dw1\n",
    "    b1 = parametres['b1'] - l_r * db1\n",
    "    w2 = parametres['w2'] - l_r * dw2\n",
    "    b2 = parametres['b2'] - l_r * db2\n",
    "    \n",
    "    parametres['w1'] = w1\n",
    "    parametres['b1'] = b1\n",
    "    parametres['w2'] = w2\n",
    "    parametres['b2'] = b2\n",
    "\n",
    "    #print('updated W1 = %s'%params['W1'])\n",
    "    \n",
    "    return parametres"
   ]
  },
  {
   "cell_type": "code",
   "execution_count": 1,
   "metadata": {},
   "outputs": [
    {
     "ename": "NameError",
     "evalue": "name 'Y' is not defined",
     "output_type": "error",
     "traceback": [
      "\u001b[0;31m---------------------------------------------------------------------------\u001b[0m",
      "\u001b[0;31mNameError\u001b[0m                                 Traceback (most recent call last)",
      "\u001b[0;32m<ipython-input-1-9e785a58da0c>\u001b[0m in \u001b[0;36m<module>\u001b[0;34m\u001b[0m\n\u001b[1;32m     12\u001b[0m     \u001b[0;32mreturn\u001b[0m \u001b[0maccuracy\u001b[0m\u001b[0;34m\u001b[0m\u001b[0;34m\u001b[0m\u001b[0m\n\u001b[1;32m     13\u001b[0m \u001b[0;34m\u001b[0m\u001b[0m\n\u001b[0;32m---> 14\u001b[0;31m \u001b[0maccuracy\u001b[0m\u001b[0;34m(\u001b[0m\u001b[0mY\u001b[0m\u001b[0;34m,\u001b[0m \u001b[0mY\u001b[0m\u001b[0;34m)\u001b[0m\u001b[0;34m\u001b[0m\u001b[0;34m\u001b[0m\u001b[0m\n\u001b[0m",
      "\u001b[0;31mNameError\u001b[0m: name 'Y' is not defined"
     ]
    }
   ],
   "source": [
    "def accuracy(Predictions, Labels):\n",
    "    \"\"\"\n",
    "    Predictions shape (1, m)\n",
    "    Labels shape (1, m)\n",
    "    \"\"\"\n",
    "    \n",
    "    n_correct = np.sum(Predictions == Labels)\n",
    "    n_total   = Predictions.shape[1]\n",
    "    \n",
    "    accuracy = n_correct / n_total\n",
    "    \n",
    "    return accuracy\n",
    "\n",
    "accuracy(Y, Y)"
   ]
  },
  {
   "cell_type": "code",
   "execution_count": 27,
   "metadata": {},
   "outputs": [],
   "source": [
    "def nn_model(X,Y,n_x,n_h,n_y, print_freq=100):\n",
    "    \n",
    "    # Initialisation\n",
    "    parametres = init_param(n_x,n_h,n_y)\n",
    "    \n",
    "    # Iterations and Learning rate\n",
    "    num_iter = int(input('\\nHow many iterations ? '))\n",
    "    l_r = float(input('\\nLearning rate ? '))\n",
    "    \n",
    "    #Loops\n",
    "    for i in range(0, num_iter):\n",
    "        # Forward ==> Prediciton a2\n",
    "        cache, a2 = forward(X, parametres)\n",
    "        # Cost function\n",
    "        cost = cost_funct(a2, Y)\n",
    "        # Backward ==> Update parameters\n",
    "        parametres = backward(X, Y, cache, parametres, l_r)\n",
    "        \n",
    "        if i % print_freq == 0 :\n",
    "                print(f'\\nCost after iteration {i} : {cost}')\n",
    "            \n",
    "    predictions = (a2 > 0.5) * 1.\n",
    "    print(f\"\\nTrain accuracy: \", accuracy(predictions, Y))\n",
    "        \n",
    "    return parametres"
   ]
  },
  {
   "cell_type": "code",
   "execution_count": 22,
   "metadata": {},
   "outputs": [
    {
     "name": "stdout",
     "output_type": "stream",
     "text": [
      "w1 : (3, 2)\n",
      "b1 : (3, 1)\n",
      "w2 : (1, 3)\n",
      "b2 : (1, 1)\n",
      "\n",
      "How many iterations ? 1000\n",
      "\n",
      "Learning rate ? 1\n",
      "\n",
      "Cost after iteration 0 : 0.7040052266280814\n",
      "\n",
      "Cost after iteration 100 : 0.5618047297713764\n",
      "\n",
      "Cost after iteration 200 : 0.30666198820871604\n",
      "\n",
      "Cost after iteration 300 : 0.21596661068659032\n",
      "\n",
      "Cost after iteration 400 : 0.16402332749705612\n",
      "\n",
      "Cost after iteration 500 : 0.13119522121493823\n",
      "\n",
      "Cost after iteration 600 : 0.10872190220615645\n",
      "\n",
      "Cost after iteration 700 : 0.09249689659786937\n",
      "\n",
      "Cost after iteration 800 : 0.08031558281983545\n",
      "\n",
      "Cost after iteration 900 : 0.07087598117880674\n",
      "\n",
      "Train accuracy:  1.0\n"
     ]
    }
   ],
   "source": [
    "parametres = nn_model(X,Y)"
   ]
  },
  {
   "cell_type": "code",
   "execution_count": 44,
   "metadata": {},
   "outputs": [],
   "source": [
    "def predict(X, parametres):\n",
    "    \n",
    "    m = X.shape[1]\n",
    "    \n",
    "    w1 = parametres['w1']\n",
    "    b1 = parametres['b1']\n",
    "    w2 = parametres['w2']\n",
    "    b2 = parametres['b2']\n",
    "    \n",
    "    a1 = sigmoid(np.dot(w1, X)+b1)\n",
    "    a2 = sigmoid(np.dot(w2, a1)+b2)\n",
    "    \n",
    "    Y_pred = (a2 > 0.5)*1\n",
    "    \n",
    "    assert Y_pred.shape == (1, m)\n",
    "    \n",
    "    return Y_pred"
   ]
  },
  {
   "cell_type": "code",
   "execution_count": 24,
   "metadata": {},
   "outputs": [],
   "source": [
    "Y_pred = predict(X,parametres)"
   ]
  },
  {
   "cell_type": "code",
   "execution_count": 25,
   "metadata": {},
   "outputs": [
    {
     "data": {
      "text/plain": [
       "1.0"
      ]
     },
     "execution_count": 25,
     "metadata": {},
     "output_type": "execute_result"
    }
   ],
   "source": [
    "accuracy(Y_pred, Y)"
   ]
  },
  {
   "cell_type": "code",
   "execution_count": 4,
   "metadata": {},
   "outputs": [],
   "source": [
    "def plot_dataset(x, y):\n",
    "    \n",
    "    \"\"\" Permet d'afficher les classes `y` d'exemples à 2 features `X`\n",
    "    Warning: La dimension des exemples doit être la première.\n",
    "    \n",
    "    Soit m, le nombre d'exemples.\n",
    "    \n",
    "    X, matrices d'exemples, deux features par exemple; shape=(2, m))\n",
    "    y, matrices de labels, shape=(1, m)\n",
    "    \n",
    "    return: None\n",
    "    \"\"\"\n",
    "    \n",
    "\n",
    "    print(x.shape)\n",
    "    print(y.shape)\n",
    "    \n",
    "    plt.scatter(x[0,:], x[1,:], c=y[0,:], cmap=plt.cm.jet) \n",
    "    \n",
    "    return None"
   ]
  },
  {
   "cell_type": "code",
   "execution_count": 27,
   "metadata": {},
   "outputs": [
    {
     "name": "stdout",
     "output_type": "stream",
     "text": [
      "(2, 400)\n",
      "(1, 400)\n"
     ]
    },
    {
     "data": {
      "image/png": "[encoded data removed]",
      "text/plain": [
       "<Figure size 432x288 with 1 Axes>"
      ]
     },
     "metadata": {
      "needs_background": "light"
     },
     "output_type": "display_data"
    }
   ],
   "source": [
    "plot_dataset(X,Y)"
   ]
  },
  {
   "cell_type": "code",
   "execution_count": 28,
   "metadata": {},
   "outputs": [
    {
     "name": "stdout",
     "output_type": "stream",
     "text": [
      "(2, 400)\n",
      "(1, 400)\n"
     ]
    },
    {
     "data": {
      "image/png": "[encoded data removed]",
      "text/plain": [
       "<Figure size 432x288 with 1 Axes>"
      ]
     },
     "metadata": {
      "needs_background": "light"
     },
     "output_type": "display_data"
    }
   ],
   "source": [
    "plot_dataset(X,Y_pred)"
   ]
  },
  {
   "cell_type": "markdown",
   "metadata": {},
   "source": [
    "# Real XOR\n",
    "\n"
   ]
  },
  {
   "cell_type": "code",
   "execution_count": 5,
   "metadata": {},
   "outputs": [
    {
     "name": "stdout",
     "output_type": "stream",
     "text": [
      "(2, 300)\n",
      "(1, 300)\n"
     ]
    },
    {
     "data": {
      "image/png": "[encoded data removed]",
      "text/plain": [
       "<Figure size 432x288 with 1 Axes>"
      ]
     },
     "metadata": {
      "needs_background": "light"
     },
     "output_type": "display_data"
    }
   ],
   "source": [
    "# Je créé un dataset de XOR\n",
    "\n",
    "n_examples = 300\n",
    "X = np.random.randn(2, 300)\n",
    "\n",
    "mask1 = X[0, :] > 0\n",
    "mask2 = X[1, :] > 0\n",
    "\n",
    "Y = np.logical_xor(mask1, mask2) * 1.\n",
    "Y = Y.reshape(1,-1)\n",
    "plot_dataset(X,Y)"
   ]
  },
  {
   "cell_type": "code",
   "execution_count": 6,
   "metadata": {},
   "outputs": [
    {
     "name": "stdout",
     "output_type": "stream",
     "text": [
      "(2, 198) (2, 102)\n"
     ]
    }
   ],
   "source": [
    "# Split train /test \n",
    "\n",
    "split_pct = 0.66\n",
    "\n",
    "n_train = int(n_examples * split_pct)\n",
    "n_test  = n_examples - n_train \n",
    "\n",
    "X_train = X[:, :n_train]\n",
    "Y_train = Y[:, :n_train]\n",
    "\n",
    "X_test = X[:, n_train:]\n",
    "Y_test = Y[:, n_train:]\n",
    "\n",
    "\n",
    "print(X_train.shape, X_test.shape)"
   ]
  },
  {
   "cell_type": "code",
   "execution_count": 7,
   "metadata": {},
   "outputs": [
    {
     "name": "stdout",
     "output_type": "stream",
     "text": [
      "(2, 198)\n",
      "(1, 198)\n"
     ]
    },
    {
     "data": {
      "image/png": "[encoded data removed]",
      "text/plain": [
       "<Figure size 432x288 with 1 Axes>"
      ]
     },
     "metadata": {
      "needs_background": "light"
     },
     "output_type": "display_data"
    }
   ],
   "source": [
    "plot_dataset(X_train, Y_train)"
   ]
  },
  {
   "cell_type": "code",
   "execution_count": 8,
   "metadata": {
    "scrolled": true
   },
   "outputs": [
    {
     "name": "stdout",
     "output_type": "stream",
     "text": [
      "(2, 102)\n",
      "(1, 102)\n"
     ]
    },
    {
     "data": {
      "image/png": "[encoded data removed]",
      "text/plain": [
       "<Figure size 432x288 with 1 Axes>"
      ]
     },
     "metadata": {
      "needs_background": "light"
     },
     "output_type": "display_data"
    }
   ],
   "source": [
    "plot_dataset(X_test, Y_test)"
   ]
  },
  {
   "cell_type": "markdown",
   "metadata": {},
   "source": [
    "### Créer un réseau et l'entrainer sur le trainset"
   ]
  },
  {
   "cell_type": "code",
   "execution_count": 68,
   "metadata": {},
   "outputs": [
    {
     "name": "stdout",
     "output_type": "stream",
     "text": [
      "w1 : (35, 2)\n",
      "b1 : (35, 1)\n",
      "w2 : (1, 35)\n",
      "b2 : (1, 1)\n",
      "\n",
      "How many iterations ? 5000\n",
      "\n",
      "Learning rate ? 0.05\n",
      "\n",
      "Cost after iteration 0 : 0.7300821138327638\n",
      "\n",
      "Cost after iteration 100 : 0.6939092738107574\n",
      "\n",
      "Cost after iteration 200 : 0.6933010028045615\n",
      "\n",
      "Cost after iteration 300 : 0.6927464055606555\n",
      "\n",
      "Cost after iteration 400 : 0.6922082575089723\n",
      "\n",
      "Cost after iteration 500 : 0.6916684390857993\n",
      "\n",
      "Cost after iteration 600 : 0.6911068779131728\n",
      "\n",
      "Cost after iteration 700 : 0.6904998657681117\n",
      "\n",
      "Cost after iteration 800 : 0.6898205215289746\n",
      "\n",
      "Cost after iteration 900 : 0.6890391427636978\n",
      "\n",
      "Cost after iteration 1000 : 0.6881230757737481\n",
      "\n",
      "Cost after iteration 1100 : 0.6870361280317727\n",
      "\n",
      "Cost after iteration 1200 : 0.6857377909742578\n",
      "\n",
      "Cost after iteration 1300 : 0.6841826852070283\n",
      "\n",
      "Cost after iteration 1400 : 0.6823206222583879\n",
      "\n",
      "Cost after iteration 1500 : 0.6800975315277927\n",
      "\n",
      "Cost after iteration 1600 : 0.6774573387221867\n",
      "\n",
      "Cost after iteration 1700 : 0.6743447874094214\n",
      "\n",
      "Cost after iteration 1800 : 0.6707091572624638\n",
      "\n",
      "Cost after iteration 1900 : 0.6665087637014756\n",
      "\n",
      "Cost after iteration 2000 : 0.661715941529026\n",
      "\n",
      "Cost after iteration 2100 : 0.656321922680145\n",
      "\n",
      "Cost after iteration 2200 : 0.6503407320964707\n",
      "\n",
      "Cost after iteration 2300 : 0.6438111297964181\n",
      "\n",
      "Cost after iteration 2400 : 0.6367958633474614\n",
      "\n",
      "Cost after iteration 2500 : 0.629378052909816\n",
      "\n",
      "Cost after iteration 2600 : 0.6216552218594014\n",
      "\n",
      "Cost after iteration 2700 : 0.613732036491841\n",
      "\n",
      "Cost after iteration 2800 : 0.6057130262124071\n",
      "\n",
      "Cost after iteration 2900 : 0.5976963914450363\n",
      "\n",
      "Cost after iteration 3000 : 0.5897695968550405\n",
      "\n",
      "Cost after iteration 3100 : 0.582006975214572\n",
      "\n",
      "Cost after iteration 3200 : 0.5744691744964536\n",
      "\n",
      "Cost after iteration 3300 : 0.5672040302837034\n",
      "\n",
      "Cost after iteration 3400 : 0.56024833528347\n",
      "\n",
      "Cost after iteration 3500 : 0.5536299740715773\n",
      "\n",
      "Cost after iteration 3600 : 0.5473699552323555\n",
      "\n",
      "Cost after iteration 3700 : 0.5414839753530257\n",
      "\n",
      "Cost after iteration 3800 : 0.5359832789949827\n",
      "\n",
      "Cost after iteration 3900 : 0.5308747447123474\n",
      "\n",
      "Cost after iteration 4000 : 0.5261603372636429\n",
      "\n",
      "Cost after iteration 4100 : 0.5218362814819534\n",
      "\n",
      "Cost after iteration 4200 : 0.5178924292264242\n",
      "\n",
      "Cost after iteration 4300 : 0.5143122175249409\n",
      "\n",
      "Cost after iteration 4400 : 0.5110733913160048\n",
      "\n",
      "Cost after iteration 4500 : 0.508149413909629\n",
      "\n",
      "Cost after iteration 4600 : 0.5055112946085052\n",
      "\n",
      "Cost after iteration 4700 : 0.5031294691366776\n",
      "\n",
      "Cost after iteration 4800 : 0.5009754132214175\n",
      "\n",
      "Cost after iteration 4900 : 0.4990228197294627\n",
      "\n",
      "Train accuracy:  0.7777777777777778\n",
      "(2, 198)\n",
      "(1, 198)\n"
     ]
    },
    {
     "data": {
      "image/png": "[encoded data removed]",
      "text/plain": [
       "<Figure size 432x288 with 1 Axes>"
      ]
     },
     "metadata": {
      "needs_background": "light"
     },
     "output_type": "display_data"
    }
   ],
   "source": [
    "parametres = nn_model(X_train,Y_train,\n",
    "                        n_x=X_train.shape[0],\n",
    "                        n_h=35,\n",
    "                        n_y=Y_train.shape[0],\n",
    "                        print_freq=100)\n",
    "\n",
    "Y_train_pred = predict(X_train, parametres)\n",
    "plot_dataset(X_train, Y_train_pred)"
   ]
  },
  {
   "cell_type": "code",
   "execution_count": 69,
   "metadata": {},
   "outputs": [
    {
     "name": "stdout",
     "output_type": "stream",
     "text": [
      "0.7549019607843137\n",
      "(2, 102)\n",
      "(1, 102)\n"
     ]
    },
    {
     "data": {
      "image/png": "[encoded data removed]",
      "text/plain": [
       "<Figure size 432x288 with 1 Axes>"
      ]
     },
     "metadata": {
      "needs_background": "light"
     },
     "output_type": "display_data"
    }
   ],
   "source": [
    "Y_test_pred = predict(X_test, parametres)\n",
    "\n",
    "print(accuracy(Y_test_pred, Y_test))\n",
    "\n",
    "plot_dataset(X_test, Y_test_pred)"
   ]
  },
  {
   "cell_type": "code",
   "execution_count": null,
   "metadata": {},
   "outputs": [],
   "source": []
  }
 ],
 "metadata": {
  "kernelspec": {
   "display_name": "Python 3",
   "language": "python",
   "name": "python3"
  },
  "language_info": {
   "codemirror_mode": {
    "name": "ipython",
    "version": 3
   },
   "file_extension": ".py",
   "mimetype": "text/x-python",
   "name": "python",
   "nbconvert_exporter": "python",
   "pygments_lexer": "ipython3",
   "version": "3.7.1"
  },
  "latex_envs": {
   "LaTeX_envs_menu_present": true,
   "autoclose": false,
   "autocomplete": true,
   "bibliofile": "biblio.bib",
   "cite_by": "apalike",
   "current_citInitial": 1,
   "eqLabelWithNumbers": true,
   "eqNumInitial": 1,
   "hotkeys": {
    "equation": "Ctrl-E",
    "itemize": "Ctrl-I"
   },
   "labels_anchors": false,
   "latex_user_defs": false,
   "report_style_numbering": false,
   "user_envs_cfg": false
  },
  "varInspector": {
   "cols": {
    "lenName": 16,
    "lenType": 16,
    "lenVar": 40
   },
   "kernels_config": {
    "python": {
     "delete_cmd_postfix": "",
     "delete_cmd_prefix": "del ",
     "library": "var_list.py",
     "varRefreshCmd": "print(var_dic_list())"
    },
    "r": {
     "delete_cmd_postfix": ") ",
     "delete_cmd_prefix": "rm(",
     "library": "var_list.r",
     "varRefreshCmd": "cat(var_dic_list()) "
    }
   },
   "types_to_exclude": [
    "module",
    "function",
    "builtin_function_or_method",
    "instance",
    "_Feature"
   ],
   "window_display": false
  }
 },
 "nbformat": 4,
 "nbformat_minor": 2
}
